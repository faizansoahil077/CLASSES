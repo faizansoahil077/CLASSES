{
 "cells": [
  {
   "cell_type": "markdown",
   "metadata": {},
   "source": [
    "# EXCERCISES OF BOOK PYTHON CRASH COURSE"
   ]
  },
  {
   "cell_type": "markdown",
   "metadata": {},
   "source": [
    "# EXERCISE 9.1"
   ]
  },
  {
   "cell_type": "code",
   "execution_count": 1,
   "metadata": {},
   "outputs": [],
   "source": [
    "class Restaurant():\n",
    "    def __init__(self,restaurant_name,cuisine_type):\n",
    "        self.restaurant_name = restaurant_name\n",
    "        self.cuisine_type = cuisine_type\n",
    "        \n",
    "    def describe_restaurant(self):\n",
    "        print(f\"{self.restaurant_name} have {self.cuisine_type} dishes\")\n",
    "     \n",
    "    def open_restaurant(self):\n",
    "        print(\"The restaurant is open.\")\n",
    "    "
   ]
  },
  {
   "cell_type": "code",
   "execution_count": 3,
   "metadata": {},
   "outputs": [],
   "source": [
    "res123 = Restaurant(\"KOLACHI\" , \"Chinese\")"
   ]
  },
  {
   "cell_type": "code",
   "execution_count": 4,
   "metadata": {},
   "outputs": [],
   "source": [
    "res124 = Restaurant(\"DONISL\" , \"Pakistani\")"
   ]
  },
  {
   "cell_type": "code",
   "execution_count": 6,
   "metadata": {},
   "outputs": [
    {
     "data": {
      "text/plain": [
       "'KOLACHI'"
      ]
     },
     "execution_count": 6,
     "metadata": {},
     "output_type": "execute_result"
    }
   ],
   "source": [
    "res123.restaurant_name"
   ]
  },
  {
   "cell_type": "code",
   "execution_count": 9,
   "metadata": {},
   "outputs": [
    {
     "name": "stdout",
     "output_type": "stream",
     "text": [
      "The restaurant is open.\n"
     ]
    }
   ],
   "source": [
    "res124.open_restaurant()"
   ]
  },
  {
   "cell_type": "markdown",
   "metadata": {},
   "source": [
    "# 9.2"
   ]
  },
  {
   "cell_type": "code",
   "execution_count": 10,
   "metadata": {},
   "outputs": [],
   "source": [
    "res125 = Restaurant(\"SHAHEEN SHENWARI\" , \"Fast Food\")"
   ]
  },
  {
   "cell_type": "code",
   "execution_count": 11,
   "metadata": {},
   "outputs": [],
   "source": [
    "res126 = Restaurant(\"METRO\" , \"Singaporian\")"
   ]
  },
  {
   "cell_type": "code",
   "execution_count": 12,
   "metadata": {},
   "outputs": [],
   "source": [
    "res127 = Restaurant(\"JEO SHENWARI\" , \"Bbq\")"
   ]
  },
  {
   "cell_type": "code",
   "execution_count": 14,
   "metadata": {},
   "outputs": [
    {
     "name": "stdout",
     "output_type": "stream",
     "text": [
      "SHAHEEN SHENWARI have FAST FOOD dishes\n"
     ]
    }
   ],
   "source": [
    "res125.describe_restaurant()"
   ]
  },
  {
   "cell_type": "code",
   "execution_count": 15,
   "metadata": {},
   "outputs": [
    {
     "name": "stdout",
     "output_type": "stream",
     "text": [
      "METRO have Singaporian dishes\n"
     ]
    }
   ],
   "source": [
    "res126.describe_restaurant()"
   ]
  },
  {
   "cell_type": "code",
   "execution_count": 16,
   "metadata": {},
   "outputs": [
    {
     "name": "stdout",
     "output_type": "stream",
     "text": [
      "JEO SHENWARI have Bbq dishes\n"
     ]
    }
   ],
   "source": [
    "res127.describe_restaurant()"
   ]
  },
  {
   "cell_type": "markdown",
   "metadata": {},
   "source": [
    "# EXC 9.3"
   ]
  },
  {
   "cell_type": "code",
   "execution_count": 31,
   "metadata": {},
   "outputs": [],
   "source": [
    "class User():\n",
    "    def __init__(self,f_name,l_name,mobile_no,gender,email,):\n",
    "        \n",
    "        self.f_name = f_name\n",
    "        self.l_name = l_name\n",
    "        self.mobile_no = mobile_no\n",
    "        self.gender = gender\n",
    "        self.email = email\n",
    "    \n",
    "    \n",
    "    def describe_user(self):\n",
    "        print(f\"Your name is {self.f_name} {self.l_name} and gender {self.gender} mobile no:{self.mobile_no} and email:{self.email}\")\n",
    "        \n",
    "    def greet_user(self):\n",
    "        print(f\"{self.f_name} {self.l_name} you are a great user. We think to give you many facilities. \")"
   ]
  },
  {
   "cell_type": "code",
   "execution_count": 32,
   "metadata": {},
   "outputs": [],
   "source": [
    "user123 = User(\"Hasan\" , \"Raza\" , 1235 , \"male\" , \"a4\")"
   ]
  },
  {
   "cell_type": "code",
   "execution_count": 33,
   "metadata": {},
   "outputs": [],
   "source": [
    "user124 = User(\"Kaneez\" , \"Fatima\" , 6789 , \"Female\" , \"a5\" )"
   ]
  },
  {
   "cell_type": "code",
   "execution_count": 34,
   "metadata": {},
   "outputs": [
    {
     "data": {
      "text/plain": [
       "'Hasan'"
      ]
     },
     "execution_count": 34,
     "metadata": {},
     "output_type": "execute_result"
    }
   ],
   "source": [
    "user123.f_name"
   ]
  },
  {
   "cell_type": "code",
   "execution_count": 35,
   "metadata": {},
   "outputs": [
    {
     "name": "stdout",
     "output_type": "stream",
     "text": [
      "Your name is Hasan Raza and gender male mobile no:1235 and email:a4\n"
     ]
    }
   ],
   "source": [
    "user123.describe_user()"
   ]
  },
  {
   "cell_type": "code",
   "execution_count": 36,
   "metadata": {},
   "outputs": [
    {
     "name": "stdout",
     "output_type": "stream",
     "text": [
      "Your name is Kaneez Fatima and gender Female mobile no:6789 and email:a5\n"
     ]
    }
   ],
   "source": [
    "user124.describe_user()"
   ]
  },
  {
   "cell_type": "code",
   "execution_count": 37,
   "metadata": {},
   "outputs": [
    {
     "name": "stdout",
     "output_type": "stream",
     "text": [
      "Hasan Raza you are a great user. We think to give you many facilities. \n"
     ]
    }
   ],
   "source": [
    "user123.greet_user()"
   ]
  },
  {
   "cell_type": "code",
   "execution_count": 38,
   "metadata": {},
   "outputs": [
    {
     "name": "stdout",
     "output_type": "stream",
     "text": [
      "Kaneez Fatima you are a great user. We think to give you many facilities. \n"
     ]
    }
   ],
   "source": [
    "user124.greet_user()"
   ]
  },
  {
   "cell_type": "markdown",
   "metadata": {},
   "source": [
    "# 9.4"
   ]
  },
  {
   "cell_type": "code",
   "execution_count": 67,
   "metadata": {},
   "outputs": [],
   "source": [
    "class Restaurant():\n",
    "    def __init__(self,restaurant_name,cuisine_type):\n",
    "        self.restaurant_name = restaurant_name\n",
    "        self.cuisine_type = cuisine_type\n",
    "        self.number_served = 0\n",
    "        \n",
    "    def describe_restaurant(self):\n",
    "        print(f\"{self.restaurant_name} have {self.cuisine_type} dishes\")\n",
    "     \n",
    "    def open_restaurant(self):\n",
    "        print(\"The restaurant is open.\")\n",
    "    \n",
    "    def set_number_served(self):\n",
    "        print(f\"{self.restaurant_name} has served food  today {self.number_served}\")\n",
    "        \n",
    "    "
   ]
  },
  {
   "cell_type": "code",
   "execution_count": 68,
   "metadata": {},
   "outputs": [],
   "source": [
    "res125 = Restaurant(\"SHAHEEN SHENWARI\" , \"Fast Food\")"
   ]
  },
  {
   "cell_type": "code",
   "execution_count": 69,
   "metadata": {},
   "outputs": [],
   "source": [
    "res126 = Restaurant(\"METRO\" , \"Singaporian\")"
   ]
  },
  {
   "cell_type": "code",
   "execution_count": 70,
   "metadata": {},
   "outputs": [
    {
     "name": "stdout",
     "output_type": "stream",
     "text": [
      "SHAHEEN SHENWARI has served food  today 0\n"
     ]
    }
   ],
   "source": [
    "res125.set_number_served()"
   ]
  },
  {
   "cell_type": "code",
   "execution_count": 71,
   "metadata": {},
   "outputs": [
    {
     "name": "stdout",
     "output_type": "stream",
     "text": [
      "METRO has served food  today 0\n"
     ]
    }
   ],
   "source": [
    "res126.set_number_served()"
   ]
  },
  {
   "cell_type": "markdown",
   "metadata": {},
   "source": [
    "# MODIFYING ATTRIBUTE FUNCTION\n",
    "1) DIRECT ACCESS"
   ]
  },
  {
   "cell_type": "code",
   "execution_count": 72,
   "metadata": {},
   "outputs": [],
   "source": [
    "res125.number_served = 50"
   ]
  },
  {
   "cell_type": "code",
   "execution_count": 73,
   "metadata": {},
   "outputs": [
    {
     "name": "stdout",
     "output_type": "stream",
     "text": [
      "SHAHEEN SHENWARI has served food  today 50\n"
     ]
    }
   ],
   "source": [
    "res125.set_number_served()"
   ]
  },
  {
   "cell_type": "code",
   "execution_count": 74,
   "metadata": {},
   "outputs": [],
   "source": [
    "res126.number_served = 100"
   ]
  },
  {
   "cell_type": "code",
   "execution_count": 75,
   "metadata": {},
   "outputs": [
    {
     "name": "stdout",
     "output_type": "stream",
     "text": [
      "METRO has served food  today 100\n"
     ]
    }
   ],
   "source": [
    "res126.set_number_served()"
   ]
  },
  {
   "cell_type": "markdown",
   "metadata": {},
   "source": [
    "# 2) MODIFYING IT BY USING FUNCTION"
   ]
  },
  {
   "cell_type": "code",
   "execution_count": 76,
   "metadata": {},
   "outputs": [],
   "source": [
    "class Restaurant():\n",
    "    def __init__(self,restaurant_name,cuisine_type):\n",
    "        self.restaurant_name = restaurant_name\n",
    "        self.cuisine_type = cuisine_type\n",
    "        self.number_served = 0\n",
    "        \n",
    "    def describe_restaurant(self):\n",
    "        print(f\"{self.restaurant_name} have {self.cuisine_type} dishes\")\n",
    "     \n",
    "    def open_restaurant(self):\n",
    "        print(\"The restaurant is open.\")\n",
    "    \n",
    "    def set_number_served(self):\n",
    "        print(f\"{self.restaurant_name} has served  {self.number_served} peoples today\")\n",
    "        \n",
    "    \n",
    "    def  increment_number_served(self , peoples):\n",
    "        self.number_served = peoples"
   ]
  },
  {
   "cell_type": "code",
   "execution_count": 77,
   "metadata": {},
   "outputs": [],
   "source": [
    "res125 = Restaurant(\"SHAHEEN SHENWARI\" , \"Fast Food\")"
   ]
  },
  {
   "cell_type": "code",
   "execution_count": 78,
   "metadata": {},
   "outputs": [],
   "source": [
    "res126 = Restaurant(\"METRO\" , \"Singaporian\")"
   ]
  },
  {
   "cell_type": "code",
   "execution_count": 79,
   "metadata": {},
   "outputs": [],
   "source": [
    "res125.increment_number_served(65)"
   ]
  },
  {
   "cell_type": "code",
   "execution_count": 80,
   "metadata": {},
   "outputs": [
    {
     "name": "stdout",
     "output_type": "stream",
     "text": [
      "SHAHEEN SHENWARI has served  65 peoples today\n"
     ]
    }
   ],
   "source": [
    "res125.set_number_served()"
   ]
  },
  {
   "cell_type": "code",
   "execution_count": 81,
   "metadata": {},
   "outputs": [],
   "source": [
    "res126.increment_number_served(115)"
   ]
  },
  {
   "cell_type": "code",
   "execution_count": 82,
   "metadata": {},
   "outputs": [
    {
     "name": "stdout",
     "output_type": "stream",
     "text": [
      "METRO has served  115 peoples today\n"
     ]
    }
   ],
   "source": [
    "res126.set_number_served()"
   ]
  },
  {
   "cell_type": "code",
   "execution_count": null,
   "metadata": {},
   "outputs": [],
   "source": []
  }
 ],
 "metadata": {
  "kernelspec": {
   "display_name": "Python 3",
   "language": "python",
   "name": "python3"
  },
  "language_info": {
   "codemirror_mode": {
    "name": "ipython",
    "version": 3
   },
   "file_extension": ".py",
   "mimetype": "text/x-python",
   "name": "python",
   "nbconvert_exporter": "python",
   "pygments_lexer": "ipython3",
   "version": "3.7.3"
  }
 },
 "nbformat": 4,
 "nbformat_minor": 2
}
